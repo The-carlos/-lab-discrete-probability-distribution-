{
  "nbformat": 4,
  "nbformat_minor": 0,
  "metadata": {
    "colab": {
      "name": "Untitled3.ipynb",
      "provenance": [],
      "authorship_tag": "ABX9TyPIV5n0UhJhl/CteSXpuNlX",
      "include_colab_link": true
    },
    "kernelspec": {
      "name": "python3",
      "display_name": "Python 3"
    },
    "language_info": {
      "name": "python"
    }
  },
  "cells": [
    {
      "cell_type": "markdown",
      "metadata": {
        "id": "view-in-github",
        "colab_type": "text"
      },
      "source": [
        "<a href=\"https://colab.research.google.com/github/The-carlos/-lab-discrete-probability-distribution-/blob/master/varlangas_code.ipynb\" target=\"_parent\"><img src=\"https://colab.research.google.com/assets/colab-badge.svg\" alt=\"Open In Colab\"/></a>"
      ]
    },
    {
      "cell_type": "code",
      "metadata": {
        "colab": {
          "base_uri": "https://localhost:8080/",
          "height": 52
        },
        "id": "mC1i4LjVcSVe",
        "outputId": "9327d4a8-fe25-498a-e48c-673a0175844d"
      },
      "source": [
        "\"\"\"\n",
        "CODIGO VARLANGAS.\n",
        "Carlos Sanchez.\n",
        "02/05/2021.\n",
        "\n",
        "\n",
        "A veces quiero decirte cosas que no sé como decirte con palabras así que mejor las escribo. Temo que un día no haya dicho las palabras correctas en el momento adecuado o peor, nunca haberlas dicho.\n",
        "Cuando sienta que eso está pasando las voy a escribir y luego te las voy a enviar\n",
        "\"\"\""
      ],
      "execution_count": 2,
      "outputs": [
        {
          "output_type": "execute_result",
          "data": {
            "application/vnd.google.colaboratory.intrinsic+json": {
              "type": "string"
            },
            "text/plain": [
              "'\\nCODIGO VARLANGAS.\\nCarlos Sanchez.\\n02/05/2021.\\n\\n\\nA veces quiero decirte cosas que no sé como decirte con palabras así que mejor las escribo. Temo que un día no haya dicho las palabras correctas en el momento adecuado o peor, nunca haberlas dicho.\\nCuando sienta que eso está pasando las voy a escribir y luego te las voy a enviar\\n'"
            ]
          },
          "metadata": {
            "tags": []
          },
          "execution_count": 2
        }
      ]
    },
    {
      "cell_type": "code",
      "metadata": {
        "id": "ZJ2-7SYRcZO1"
      },
      "source": [
        "letters = {'a': ')', 'b': 'u', 'c': '(', 'd': ']', 'e': 'o', 'f': '[', 'g': '}',\n",
        "           'h': 'n', 'i': '{', 'j': '.)', 'k': '.u', 'l': '.(', 'm': '.]', 'n': '.o',\n",
        "           'ñ': '.[', 'o': '.}', 'p': '.n', 'q': '.{', 'r': 'v', 's': '<', 't': '>',\n",
        "           'u': '^', 'v': '.v', 'w': '.<', 'x': '.>', 'y': '.^', 'z': 'z', ' ':' '}"
      ],
      "execution_count": 17,
      "outputs": []
    },
    {
      "cell_type": "code",
      "metadata": {
        "colab": {
          "base_uri": "https://localhost:8080/",
          "height": 35
        },
        "id": "_9plKBM9hgYU",
        "outputId": "3393528c-4050-48bc-f2fb-b0ca8663e22a"
      },
      "source": [
        "letters['a']"
      ],
      "execution_count": 18,
      "outputs": [
        {
          "output_type": "execute_result",
          "data": {
            "application/vnd.google.colaboratory.intrinsic+json": {
              "type": "string"
            },
            "text/plain": [
              "')'"
            ]
          },
          "metadata": {
            "tags": []
          },
          "execution_count": 18
        }
      ]
    },
    {
      "cell_type": "markdown",
      "metadata": {
        "id": "B56cu5DRil_w"
      },
      "source": [
        "##Codificación"
      ]
    },
    {
      "cell_type": "markdown",
      "metadata": {
        "id": "zxYJvQaAiq74"
      },
      "source": [
        "Introduce el texto a codificar:"
      ]
    },
    {
      "cell_type": "code",
      "metadata": {
        "colab": {
          "base_uri": "https://localhost:8080/"
        },
        "id": "KPPnKQC5ieNb",
        "outputId": "50dd2021-5441-4350-eaec-f9e2ae92f634"
      },
      "source": [
        "cod_text = input('Texto: ').lower()\n",
        "print(f'El texto a codificar es el siguiente: \\n{cod_text}')"
      ],
      "execution_count": 24,
      "outputs": [
        {
          "output_type": "stream",
          "text": [
            "Texto: hola hermani\n",
            "El texto a codificar es el siguiente: \n",
            "hola hermani\n"
          ],
          "name": "stdout"
        }
      ]
    },
    {
      "cell_type": "markdown",
      "metadata": {
        "id": "fCgxRpxrjOKi"
      },
      "source": [
        "Codificación:"
      ]
    },
    {
      "cell_type": "code",
      "metadata": {
        "colab": {
          "base_uri": "https://localhost:8080/"
        },
        "id": "wAt-AGybi7Gy",
        "outputId": "61df9d17-35ce-4e97-9113-808b0b5f4660"
      },
      "source": [
        "nuevo_texto = [letters[character] for character in cod_text]\n",
        "nuevo_texto = ' '.join(nuevo_texto)\n",
        "print(nuevo_texto)\n"
      ],
      "execution_count": 25,
      "outputs": [
        {
          "output_type": "stream",
          "text": [
            "n .} .( )   n o v .] ) .o {\n"
          ],
          "name": "stdout"
        }
      ]
    },
    {
      "cell_type": "markdown",
      "metadata": {
        "id": "1osmERxqowrj"
      },
      "source": [
        "## Decodificación:"
      ]
    },
    {
      "cell_type": "markdown",
      "metadata": {
        "id": "OTSyrAH5o20R"
      },
      "source": [
        "Introduce el texto a decodificar:"
      ]
    },
    {
      "cell_type": "code",
      "metadata": {
        "colab": {
          "base_uri": "https://localhost:8080/"
        },
        "id": "aXYvfoxTmTIu",
        "outputId": "beacde5f-7930-46cf-e556-a5044ede0215"
      },
      "source": [
        "decod_text = input('Texto: ').lower()\n",
        "print(f'El texto a decodificar es el siguiente: \\n{decod_text}')"
      ],
      "execution_count": 31,
      "outputs": [
        {
          "output_type": "stream",
          "text": [
            "Texto: n .} .( )   n o v .] ) .o {\n",
            "El texto a decodificar es el siguiente: \n",
            "n .} .( )   n o v .] ) .o {\n"
          ],
          "name": "stdout"
        }
      ]
    },
    {
      "cell_type": "code",
      "metadata": {
        "colab": {
          "base_uri": "https://localhost:8080/"
        },
        "id": "bHD_UwpapGcW",
        "outputId": "c80c53cc-099b-44a8-91bd-a042235edb19"
      },
      "source": [
        "nuevo_texto = []\n",
        "for character in decod_text:\n",
        "  print(character)"
      ],
      "execution_count": 35,
      "outputs": [
        {
          "output_type": "stream",
          "text": [
            "n\n",
            " \n",
            ".\n",
            "}\n",
            " \n",
            ".\n",
            "(\n",
            " \n",
            ")\n",
            " \n",
            " \n",
            " \n",
            "n\n",
            " \n",
            "o\n",
            " \n",
            "v\n",
            " \n",
            ".\n",
            "]\n",
            " \n",
            ")\n",
            " \n",
            ".\n",
            "o\n",
            " \n",
            "{\n"
          ],
          "name": "stdout"
        }
      ]
    },
    {
      "cell_type": "code",
      "metadata": {
        "id": "fDj9The4q5a8"
      },
      "source": [
        ""
      ],
      "execution_count": null,
      "outputs": []
    }
  ]
}